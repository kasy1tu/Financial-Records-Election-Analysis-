{
 "cells": [
  {
   "cell_type": "code",
   "execution_count": 126,
   "metadata": {},
   "outputs": [
    {
     "name": "stdout",
     "output_type": "stream",
     "text": [
      "Election Results\n",
      "----------------------------------------------------------------\n",
      "Total Votes: 3521001\n",
      "List of candidates: ['Khan', 'Correy', 'Li', \"O'Tooley\"]\n",
      "----------------------------------------------------------------\n",
      "Khan Total Votes: 2218231 | Percentage: 63.0%\n",
      "Correy Total Votes: 704200 | Percentage: 20.0%\n",
      "Li Total Votes: 492940 | Percentage: 14.0%\n",
      "O'Tooley Total Votes: 105630 | Percentage: 3.0%\n",
      "----------------------------------------------------------------\n",
      "Winner: Khan\n"
     ]
    }
   ],
   "source": [
    "import os\n",
    "import csv\n",
    "csvpath = os.path.join(\"Resources\", \"election_data.csv\")\n",
    "total_count = 0 \n",
    "unique_candidate = []\n",
    "khan_votes = 0\n",
    "correy_votes = 0\n",
    "li_votes = 0\n",
    "tooley_votes = 0 \n",
    "votes = []\n",
    "candidate_list = [\"Khan\", \"Correy\", \"Li\", \"O'Tooley\"]\n",
    "totals = zip(candidate_list, votes)\n",
    "with open(csvpath) as csvfile:\n",
    "    reader = csv.reader(csvfile)\n",
    "    header = next(reader)\n",
    "    for row in reader:\n",
    "        if row[2] not in unique_candidate: \n",
    "            unique_candidate.append(row[2])\n",
    "        total_count += 1\n",
    "        if row[2] == \"Khan\":\n",
    "            khan_votes += 1\n",
    "        if row[2] == \"Correy\":\n",
    "            correy_votes += 1\n",
    "        if row[2] == \"Li\":\n",
    "            li_votes += 1\n",
    "        if row[2] == \"O'Tooley\":\n",
    "            tooley_votes += 1\n",
    "    votes.append(khan_votes)\n",
    "    votes.append(correy_votes)\n",
    "    votes.append(li_votes)\n",
    "    votes.append(tooley_votes)\n",
    "    for candidate_list in totals:\n",
    "        if candidate_list[1] == max(votes):\n",
    "            winner = candidate_list[0]\n",
    "    \n",
    "khan = round((khan_votes)/(total_count), 2)\n",
    "correy = round((correy_votes)/(total_count), 2)\n",
    "li = round((li_votes)/(total_count), 2)\n",
    "tooley = round((tooley_votes)/(total_count), 2)\n",
    "li_times = round((li)*100, 2)\n",
    "\n",
    "print(\"Election Results\")\n",
    "print(\"----------------------------------------------------------------\")\n",
    "print(f\"Total Votes: {total_count}\")\n",
    "print(f\"List of candidates: {unique_candidate}\")\n",
    "print(\"----------------------------------------------------------------\")\n",
    "print(f\"Khan Total Votes: {khan_votes} | Percentage: {khan*100}%\")\n",
    "print(f\"Correy Total Votes: {correy_votes} | Percentage: {correy*100}%\")\n",
    "print(f\"Li Total Votes: {li_votes} | Percentage: {li_times}%\")\n",
    "print(f\"O'Tooley Total Votes: {tooley_votes} | Percentage: {tooley*100}%\")\n",
    "print(\"----------------------------------------------------------------\")\n",
    "print(f\"Winner: {winner}\")"
   ]
  },
  {
   "cell_type": "markdown",
   "metadata": {},
   "source": []
  }
 ],
 "metadata": {
  "kernelspec": {
   "display_name": "Python 3",
   "language": "python",
   "name": "python3"
  },
  "language_info": {
   "codemirror_mode": {
    "name": "ipython",
    "version": 3
   },
   "file_extension": ".py",
   "mimetype": "text/x-python",
   "name": "python",
   "nbconvert_exporter": "python",
   "pygments_lexer": "ipython3",
   "version": "3.8.5"
  }
 },
 "nbformat": 4,
 "nbformat_minor": 4
}
