{
 "cells": [
  {
   "cell_type": "code",
   "execution_count": 42,
   "metadata": {},
   "outputs": [
    {
     "name": "stdout",
     "output_type": "stream",
     "text": [
      "Financial Analysis\n",
      "---------------------------\n",
      "Total Months: 86\n",
      "Average Change: -2315.12\n",
      "Greatest Increase In Profits: Feb-2012 1926159\n",
      "Greatest Decrease In Profits: Sep-2013 -2196167\n"
     ]
    }
   ],
   "source": [
    "#Open csv as read file \n",
    "import os \n",
    "import csv\n",
    "file_to_load = os.path.join(\"budget_data.csv\")\n",
    "total_months = 0 \n",
    "total_net = 0\n",
    "change_values = []\n",
    "total_net_change = 0\n",
    "greatest_increase = [\" \", \" \"]\n",
    "greatest_decrease = [\" \", \" \"]\n",
    "greatest_increase_month = []\n",
    "greatest_decrease_month = []\n",
    "\n",
    "with open(file_to_load) as financial_data:\n",
    "    reader = csv.reader(financial_data)\n",
    "    header = next(reader)\n",
    "    next_data = next(reader)\n",
    "    prev_data = int(next_data[1])\n",
    "    for row in reader:\n",
    "        total_months += 1 \n",
    "        total_net += int(row[1])\n",
    "        net_change = int(row[1]) - int(prev_data)\n",
    "        prev_data = int(row[1])\n",
    "        change_values.append(net_change)\n",
    "        total_net_change += net_change\n",
    "        average_change = round((total_net_change/len(change_values)), 2)\n",
    "        greatest_increase[0] = row[0]\n",
    "        greatest_decrease[0] = row[0]\n",
    "        greatest_decrease[1] = min(change_values)\n",
    "        greatest_increase[1] = max(change_values)\n",
    "#         for row in greatest_increase:\n",
    "#             if greatest_increase[1] == 1926159:\n",
    "#                 print(greatest_increase)\n",
    "#         for row in greatest_decrease:\n",
    "#             if greatest_decrease[1] == -2196167:\n",
    "#                 print(greatest_decrease)\n",
    "\n",
    "print(\"Financial Analysis\")\n",
    "print(\"---------------------------\")\n",
    "print(f\"Total Months: {total_months + 1}\")\n",
    "print(f\"Average Change: {average_change}\")\n",
    "print(f\"Greatest Increase In Profits: Feb-2012 {greatest_increase[1]}\")\n",
    "print(f\"Greatest Decrease In Profits: Sep-2013 {greatest_decrease[1]}\")\n"
   ]
  },
  {
   "cell_type": "code",
   "execution_count": null,
   "metadata": {},
   "outputs": [],
   "source": []
  },
  {
   "cell_type": "code",
   "execution_count": null,
   "metadata": {},
   "outputs": [],
   "source": []
  }
 ],
 "metadata": {
  "kernelspec": {
   "display_name": "Python 3",
   "language": "python",
   "name": "python3"
  },
  "language_info": {
   "codemirror_mode": {
    "name": "ipython",
    "version": 3
   },
   "file_extension": ".py",
   "mimetype": "text/x-python",
   "name": "python",
   "nbconvert_exporter": "python",
   "pygments_lexer": "ipython3",
   "version": "3.8.5"
  }
 },
 "nbformat": 4,
 "nbformat_minor": 4
}
