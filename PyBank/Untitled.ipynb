{
 "cells": [
  {
   "cell_type": "code",
   "execution_count": 24,
   "metadata": {},
   "outputs": [
    {
     "name": "stdout",
     "output_type": "stream",
     "text": [
      "-196785\n",
      "-2315.12\n"
     ]
    }
   ],
   "source": [
    "#Open csv as read file \n",
    "import os \n",
    "import csv\n",
    "file_to_load = os.path.join(\"budget_data.csv\")\n",
    "total_months = 0 \n",
    "total_net = 0\n",
    "change_values = []\n",
    "total_net_change = 0\n",
    "with open(file_to_load) as financial_data:\n",
    "    reader = csv.reader(financial_data)\n",
    "    header = next(reader)\n",
    "    next_data = next(reader)\n",
    "    prev_data = int(next_data[1])\n",
    "    for row in reader:\n",
    "        total_months += 1 \n",
    "        total_net += int(row[1])\n",
    "        net_change = int(row[1]) - int(prev_data)\n",
    "        prev_data = int(row[1])\n",
    "#         print(net_change)\n",
    "        total_net_change += net_change\n",
    "    print(total_net_change)\n",
    "    average_change = round((total_net_change/85), 2)\n",
    "    print(average_change)\n",
    "#     print(f\"Total months: {total_months}\")\n",
    "#     print(f\"Total net profits/losses: {total_net}\")\n",
    "        \n",
    "        \n",
    "        "
   ]
  },
  {
   "cell_type": "code",
   "execution_count": null,
   "metadata": {},
   "outputs": [],
   "source": []
  }
 ],
 "metadata": {
  "kernelspec": {
   "display_name": "Python 3",
   "language": "python",
   "name": "python3"
  },
  "language_info": {
   "codemirror_mode": {
    "name": "ipython",
    "version": 3
   },
   "file_extension": ".py",
   "mimetype": "text/x-python",
   "name": "python",
   "nbconvert_exporter": "python",
   "pygments_lexer": "ipython3",
   "version": "3.8.5"
  }
 },
 "nbformat": 4,
 "nbformat_minor": 4
}
